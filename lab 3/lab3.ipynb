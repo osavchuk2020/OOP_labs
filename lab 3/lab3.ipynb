{
 "cells": [
  {
   "cell_type": "markdown",
   "metadata": {},
   "source": [
    "# Звіт до роботи\n",
    "## Тема: Перша програма на Python\n",
    "### Мета роботи: Перша програма на Python\n",
    "---\n",
    "### Виконання роботи\n",
    "1. Перша програма на Python\n",
    "    1. Інсталював плагіни Python та Jupyter\n",
    "    1. Створив новий файл з розширенням `.py` , скопіював до нього код з попереднього файлу\n",
    "        ```python\n",
    "        from datetime import datetime\n",
    "        name = \"Bohdan\"\n",
    "\n",
    "        print(f\"{name} start programming at {datetime.now()}\")\n",
    "        ```\n",
    "    1. Змінив значення змінної `name` на `Oleksandr` та запустив програму\n",
    "    1. Після виконання програма вивела\n",
    "        ```text\n",
    "        Oleksandr start programming at 2022-11-07 11:03:07.142686\n",
    "        ```\n",
    "\n",
    "### Висновок: \n",
    "-  В ході роботи я працювати з основними файлами python `.py` та `.ipynb`. Створив свою першу програму.\n",
    "- Так, мету роботи досягнуто.\n",
    "- Всі, згідно вищезазначених завдань\n",
    "- У даній роботі питання відсутні)\n",
    "- Так, вдалось\n",
    "- Ні, не виникало.\n",
    "- Так, подобається.\n",
    "- Зменшити кількість питань у висновку)\n",
    "---"
   ]
  }
 ],
 "metadata": {
  "kernelspec": {
   "display_name": "Python 3.11.0 64-bit",
   "language": "python",
   "name": "python3"
  },
  "language_info": {
   "name": "python",
   "version": "3.11.0"
  },
  "orig_nbformat": 4,
  "vscode": {
   "interpreter": {
    "hash": "77d2cc0590bede01802f00adf8c77be78df7a889c0b833c69117dc8f16f8f23f"
   }
  }
 },
 "nbformat": 4,
 "nbformat_minor": 2
}
