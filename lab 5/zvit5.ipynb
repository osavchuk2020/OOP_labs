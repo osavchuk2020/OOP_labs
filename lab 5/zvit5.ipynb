{
 "cells": [
  {
   "cell_type": "markdown",
   "metadata": {},
   "source": [
    "# Звіт до роботи\n",
    "## Тема: Знайомство з ООП\n",
    "### Мета роботи: Знайомство з ООП\n",
    "---\n",
    "### Виконання роботи\n",
    "1. Створення першого class\n",
    "    1. Створив файл з розширення `.py`;\n",
    "    1. Скопіював код наведений у інструкції до роботи;\n",
    "    1. Виконав код програми;\n",
    "        - результат виконання програми:\n",
    "            ```text\n",
    "            Let's Start!\n",
    "            >*<>*<>*<>*<>*<>*<>*<>*<>*<>*<>*<>*<>*<>*<>*<>*<>*<>*<>*<>*<\n",
    "            This is object: <__main__.MyName object at 0x0000025EE4FCFA50>\n",
    "            This is object attribute: Bohdan / 1\n",
    "            This is <class 'property'>: My name is Bohdan / Bohdan@itcollege.lviv.ua\n",
    "            This is <class 'method'> call: Bohdan@itcollege.lviv.ua\n",
    "            This is static <class 'function'> with defaults: You say: Hello to everyone!\n",
    "            This is class variable <class 'int'>: from class 4 / from object 4\n",
    "            <*><*><*><*><*><*><*><*><*><*><*><*><*><*><*><*><*><*><*><*>\n",
    "            >*<>*<>*<>*<>*<>*<>*<>*<>*<>*<>*<>*<>*<>*<>*<>*<>*<>*<>*<>*<\n",
    "            This is object: <__main__.MyName object at 0x0000025EE4FCFA90>\n",
    "            This is object attribute: Marta / 2\n",
    "            This is <class 'property'>: My name is Marta / Marta@itcollege.lviv.ua\n",
    "            This is <class 'method'> call: Marta@itcollege.lviv.ua\n",
    "            This is static <class 'function'> with defaults: You say: Hello to everyone!\n",
    "            This is class variable <class 'int'>: from class 4 / from object 4\n",
    "            <*><*><*><*><*><*><*><*><*><*><*><*><*><*><*><*><*><*><*><*>\n",
    "            >*<>*<>*<>*<>*<>*<>*<>*<>*<>*<>*<>*<>*<>*<>*<>*<>*<>*<>*<>*<\n",
    "            This is object attribute: Anonymous / 4\n",
    "            This is <class 'property'>: My name is Anonymous / Anonymous@itcollege.lviv.ua\n",
    "            This is <class 'method'> call: Anonymous@itcollege.lviv.ua\n",
    "            This is static <class 'function'> with defaults: You say: Hello to everyone!\n",
    "            This is class variable <class 'int'>: from class 4 / from object 4\n",
    "            <*><*><*><*><*><*><*><*><*><*><*><*><*><*><*><*><*><*><*><*>\n",
    "            We are done. We create 4 names! ??? Why 4?\n",
    "            ```\n",
    "    1. Ознаймився з кодом програми, проаналізував його роботу;\n",
    "    1. Додав своє імя в список:\n",
    "        - код програми \n",
    "            ```python\n",
    "            names = (\"Bohdan\", \"Marta\", None, \"Oleksandr\")\n",
    "            ```\n",
    "    1. Відповіді на запитання:\n",
    "        1. Чому коли передаємо значення None створюється обєкт з іменем Anonymous?\n",
    "        - під час ініціалізації вказано виняток для None, при якому викликається окромий метод `MyName.anonymous_user()` що створює обєкт класу зі значенням Anonymous;\n",
    "        1. Як змінити текст привітання при виклику методу say_hello()?\n",
    "        - під час виклику методу обєкта `say_hello()`, у якості атрибуту можна вказати власний текст повідомлення, що замінить дефолтне значення.\n",
    "            ```python\n",
    "            me.say_hello(\"changed message here!\")\n",
    "            ```\n",
    "        1. Допишіть функцію в класі яка порахує кількість букв в імені\n",
    "        - код функції\n",
    "            ```python\n",
    "            def name_length(self):\n",
    "                return len(self.name)\n",
    "            ```\n",
    "        1. Порахуйте кількість імен у списку names та порівняйте із виведеним результатом. Дайте відповідь чому маємо різну кількість імен?\n",
    "        - Коли ми передаємо значення None, викликається метод `MyName.anonymous_user(cls)`, який в свою чергу викликає повторну ініціалізацію обєкту класу. Таким чином вона для значення None виклиаєтсья двічі. Щоб цього запобігти, необхідно інкрементацію суми імен обернути у той самий виняток, коли імя не дорівнію None;\n",
    "\n",
    "### Висновок: \n",
    "-  В ході роботи я ознаймився з принципом роботи класів, опису його методів та атрибутів, ініціалізації обєктів класу та виклику їх методів;\n",
    "- Так, мету роботи досягнуто.\n",
    "- Всі, згідно вищезазначених завдань\n",
    "- У даній роботі питання відсутні)\n",
    "- Так, вдалось\n",
    "- Ні, не виникало.\n",
    "- Так, подобається.\n",
    "- Зменшити кількість питань у висновку)\n",
    "---"
   ]
  }
 ],
 "metadata": {
  "kernelspec": {
   "display_name": "Python 3.11.0 64-bit",
   "language": "python",
   "name": "python3"
  },
  "language_info": {
   "name": "python",
   "version": "3.11.0"
  },
  "orig_nbformat": 4,
  "vscode": {
   "interpreter": {
    "hash": "77d2cc0590bede01802f00adf8c77be78df7a889c0b833c69117dc8f16f8f23f"
   }
  }
 },
 "nbformat": 4,
 "nbformat_minor": 2
}
